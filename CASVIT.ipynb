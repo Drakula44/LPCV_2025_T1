{
 "cells": [
  {
   "cell_type": "markdown",
   "metadata": {},
   "source": [
    "## Sveska za importovanje i pravljenje jobova za CAS-VIT mrežu\n",
    "\n",
    "CAS-ViT se zasniva na Visual Transformer arhitekturi, više informacija na linku\n",
    "\n",
    "https://paperswithcode.com/paper/cas-vit-convolutional-additive-self-attention\n",
    "\n",
    "Ova sveska uz prateće fajlove automatski skida weightove za CAS-ViT model zadate veličine, i posle taj model šalje na AIHUB za testiranje.\n",
    "\n",
    "Za sada sam pokrenuo samo xs model, koji se izvršava super brzo i ima manje parametara od MobileNetV2, doduše mnogo više layera koji su raspoređeni na više COMPUTE unita, što je koliko ja razumem dobro.\n",
    "\n",
    "Ne znam da li je dobro da modele čuvamo na GIT-u (Drakula neka kaže kako bi to trebalo), pa sam sve fajlove koje se generišu stavio u gitignore.\n"
   ]
  },
  {
   "cell_type": "code",
   "execution_count": null,
   "metadata": {},
   "outputs": [],
   "source": [
    "import gdown\n",
    "import torch\n",
    "import rcvit\n",
    "import torchviz\n",
    "import torchsummary\n",
    "import numpy as np\n",
    "import qai_hub as hub\n",
    "import requests\n",
    "import input_getter\n",
    "import make_jobs"
   ]
  },
  {
   "cell_type": "code",
   "execution_count": null,
   "metadata": {},
   "outputs": [],
   "source": [
    "# Model selection (options: \"xs\", \"s\", \"m\", \"t\")\n",
    "\n",
    "modelID = \"xs\"\n",
    "\n",
    "driveFileIDs = dict()\n",
    "\n",
    "driveFileIDs[\"xs\"] = \"16wKcwF6QMW5w_lyPYnDKjMNuoxQDfrLK\"\n",
    "driveFileIDs[\"s\"]  = \"1facFRq8s8oelYUtK1fj3fcfdoWoKDBQQ\"\n",
    "driveFileIDs[\"m\"]  = \"13sQpSEf0h_uuh0jRy9V0yIW6ZsbDpVGy\"\n",
    "driveFileIDs[\"t\"]  = \"1NqoIUPbwBC91RTjTUvubAbOfGqo1VYT0\"\n",
    "\n",
    "networks = dict()\n",
    "networks[\"xs\"] = rcvit.rcvit_xs\n",
    "networks[\"s\"]  = rcvit.rcvit_s\n",
    "networks[\"m\"]  = rcvit.rcvit_m\n",
    "networks[\"t\"]  = rcvit.rcvit_t\n",
    "\n",
    "file_id = driveFileIDs[modelID]\n",
    "\n",
    "modelName = \"CASVIT_{}\".format(modelID)\n",
    "\n",
    "file_path = modelName + \".pth\"\n",
    "\n",
    "#gdown.download(f\"https://drive.google.com/uc?id={file_id}\", file_path, quiet=False)\n",
    "\n",
    "print(\"Model downloaded successfully.\")"
   ]
  },
  {
   "cell_type": "code",
   "execution_count": null,
   "metadata": {},
   "outputs": [],
   "source": [
    "net: rcvit.RCViT = networks[modelID]()\n",
    "print(net)"
   ]
  },
  {
   "cell_type": "code",
   "execution_count": null,
   "metadata": {},
   "outputs": [],
   "source": [
    "torchsummary.summary(net, (3, 224, 224))"
   ]
  },
  {
   "cell_type": "code",
   "execution_count": null,
   "metadata": {},
   "outputs": [],
   "source": [
    "# Loading pre-trained weights\n",
    "\n",
    "weightDict = torch.load(file_path, map_location=torch.device(\"cpu\"))\n",
    "net.load_state_dict(weightDict[\"model\"])"
   ]
  },
  {
   "cell_type": "code",
   "execution_count": null,
   "metadata": {},
   "outputs": [],
   "source": [
    "# Kada se uradi ovi jobovi na linkovima se moze naci vizuelizacija mreze i informacije za dalju analizu\n",
    "\n",
    "net.eval()\n",
    "\n",
    "input = input_getter.random_input_getter()\n",
    "\n",
    "c, p, i = make_jobs.compile_profile_inference(net, input)\n"
   ]
  }
 ],
 "metadata": {
  "kernelspec": {
   "display_name": "venv",
   "language": "python",
   "name": "python3"
  },
  "language_info": {
   "codemirror_mode": {
    "name": "ipython",
    "version": 3
   },
   "file_extension": ".py",
   "mimetype": "text/x-python",
   "name": "python",
   "nbconvert_exporter": "python",
   "pygments_lexer": "ipython3",
   "version": "3.12.8"
  }
 },
 "nbformat": 4,
 "nbformat_minor": 2
}
