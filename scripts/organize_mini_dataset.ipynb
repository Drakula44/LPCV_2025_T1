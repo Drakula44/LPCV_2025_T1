{
 "cells": [
  {
   "cell_type": "code",
   "execution_count": null,
   "metadata": {},
   "outputs": [],
   "source": [
    "import os\n",
    "import subprocess\n",
    "import json\n",
    "import pandas as pd\n",
    "from tqdm import tqdm\n",
    "\n",
    "# Base directory for datasets\n",
    "base_dir = \"../data\"\n",
    "\n",
    "# List of required classes\n",
    "classes = [\"Bicycle\", \"Car\", \"Motorcycle\", \"Airplane\", \"Bus\", \"Train\", \"Truck\", \"Boat\",\n",
    "           \"Traffic Light\", \"Stop Sign\", \"Parking Meter\", \"Bench\", \"Bird\", \"Cat\", \"Dog\",\n",
    "           \"Horse\", \"Sheep\", \"Cow\", \"Elephant\", \"Bear\", \"Zebra\", \"Backpack\", \"Umbrella\",\n",
    "           \"Handbag\", \"Tie\", \"Skis\", \"Sports Ball\", \"Kite\", \"Tennis Racket\", \"Bottle\",\n",
    "           \"Wine Glass\", \"Cup\", \"Knife\", \"Spoon\", \"Bowl\", \"Banana\", \"Apple\", \"Orange\",\n",
    "           \"Broccoli\", \"Hot Dog\", \"Pizza\", \"Donut\", \"Chair\", \"Couch\", \"Potted Plant\", \"Bed\",\n",
    "           \"Dining Table\", \"Toilet\", \"TV\", \"Laptop\", \"Mouse\", \"Remote\", \"Keyboard\", \"Cell Phone\",\n",
    "           \"Microwave\", \"Oven\", \"Toaster\", \"Sink\", \"Refrigerator\", \"Book\", \"Clock\", \"Vase\",\n",
    "           \"Teddy Bear\", \"Hair Drier\"]\n",
    "           \n",
    "classes = [c.lower() for c in classes]"
   ]
  },
  {
   "cell_type": "code",
   "execution_count": null,
   "metadata": {},
   "outputs": [],
   "source": [
    "def create_dataset_structure(dataset_name):\n",
    "    \"\"\"Create train, val, test folders for a dataset\"\"\"\n",
    "    dataset_path = os.path.join(base_dir, dataset_name)\n",
    "    for split in [\"train\", \"val\", \"test\"]:\n",
    "        for cls in classes:\n",
    "            os.makedirs(os.path.join(dataset_path, split, cls), exist_ok=True)\n",
    "    return dataset_path\n"
   ]
  },
  {
   "cell_type": "code",
   "execution_count": null,
   "metadata": {},
   "outputs": [],
   "source": [
    "def download_coco():\n",
    "    \"\"\"Download COCO dataset (Train & Val)\"\"\"\n",
    "    print(\"🚀 Downloading COCO dataset...\")\n",
    "\n",
    "    urls = {\n",
    "        \"train\": \"http://images.cocodataset.org/zips/train2017.zip\",\n",
    "        \"val\": \"http://images.cocodataset.org/zips/val2017.zip\",\n",
    "        \"annotations\": \"http://images.cocodataset.org/annotations/annotations_trainval2017.zip\"\n",
    "    }\n",
    "\n",
    "    for split, url in urls.items():\n",
    "        zip_path = os.path.join(coco_dir, f\"{split}.zip\")\n",
    "        subprocess.run([\"wget\", \"-O\", zip_path, url])\n",
    "        subprocess.run([\"unzip\", \"-q\", \"-d\", coco_dir, zip_path])\n",
    "        os.remove(zip_path)\n",
    "\n",
    "    print(\"✅ COCO dataset downloaded and extracted!\")"
   ]
  },
  {
   "cell_type": "code",
   "execution_count": null,
   "metadata": {},
   "outputs": [],
   "source": [
    "def move_images_to_class_folders(split):\n",
    "    \"\"\"Move COCO images into class folders based on labels.\"\"\"\n",
    "    annotations_file = os.path.join(coco_dir, \"annotations\", f\"instances_{split}2017.json\")\n",
    "\n",
    "    # Load COCO annotations\n",
    "    with open(annotations_file, \"r\") as f:\n",
    "        coco_data = json.load(f)\n",
    "\n",
    "    # Map category ID to category name\n",
    "    category_map = {cat[\"id\"]: cat[\"name\"] for cat in coco_data[\"categories\"]}\n",
    "\n",
    "    #print(category_map)\n",
    "\n",
    "    # Keep only the required classes\n",
    "    category_map = {k: v for k, v in category_map.items() if v in classes}\n",
    "\n",
    "    #print(category_map)\n",
    "    \n",
    "    filtered_annotations = [ann for ann in coco_data[\"annotations\"] if ann[\"category_id\"] in category_map]\n",
    "\n",
    "\n",
    "    if not filtered_annotations:\n",
    "        print(f\"⚠️ No images found for {split}! Check annotation file.\")\n",
    "\n",
    "    for ann in tqdm(filtered_annotations, desc=f\"Moving {split} images\"):\n",
    "        image_id = ann[\"image_id\"]\n",
    "        category_id = ann[\"category_id\"]\n",
    "        category_name = category_map[category_id]\n",
    "        file_name = next((img[\"file_name\"] for img in coco_data[\"images\"] if img[\"id\"] == image_id), None)\n",
    "\n",
    "        if file_name is None:\n",
    "            print(f\"⚠️ Warning: No file found for image ID {image_id}\")\n",
    "            continue\n",
    "\n",
    "        src_path = os.path.join(coco_dir, f\"{split}2017\", file_name)\n",
    "        dest_folder = os.path.join(coco_dir, split, category_name)\n",
    "        dest_path = os.path.join(dest_folder, file_name)\n",
    "\n",
    "        # Ensure class folder exists\n",
    "        os.makedirs(dest_folder, exist_ok=True)\n",
    "\n",
    "        # Move the file only if it exists\n",
    "        if os.path.exists(src_path):\n",
    "            os.rename(src_path, dest_path)\n",
    "            print(f\"✅ Moved: {src_path} → {dest_path}\")\n",
    "        else:\n",
    "            print(f\"⚠️ File missing: {src_path}\")"
   ]
  },
  {
   "cell_type": "code",
   "execution_count": null,
   "metadata": {},
   "outputs": [],
   "source": [
    "coco_dir = create_dataset_structure(\"COCO\")"
   ]
  },
  {
   "cell_type": "code",
   "execution_count": null,
   "metadata": {},
   "outputs": [],
   "source": [
    "coco_dir"
   ]
  },
  {
   "cell_type": "code",
   "execution_count": null,
   "metadata": {},
   "outputs": [],
   "source": [
    "# UNCOMMENT TO DOWNLOAD COCO DATASET\n",
    "\n",
    "#download_coco()         \n"
   ]
  },
  {
   "cell_type": "code",
   "execution_count": null,
   "metadata": {},
   "outputs": [],
   "source": [
    "move_images_to_class_folders(\"train\")  # Move Train images\n"
   ]
  },
  {
   "cell_type": "code",
   "execution_count": null,
   "metadata": {},
   "outputs": [],
   "source": [
    "move_images_to_class_folders(\"val\") "
   ]
  },
  {
   "cell_type": "code",
   "execution_count": null,
   "metadata": {},
   "outputs": [],
   "source": []
  }
 ],
 "metadata": {
  "kernelspec": {
   "display_name": "venv",
   "language": "python",
   "name": "python3"
  },
  "language_info": {
   "codemirror_mode": {
    "name": "ipython",
    "version": 3
   },
   "file_extension": ".py",
   "mimetype": "text/x-python",
   "name": "python",
   "nbconvert_exporter": "python",
   "pygments_lexer": "ipython3",
   "version": "3.10.14"
  }
 },
 "nbformat": 4,
 "nbformat_minor": 2
}
