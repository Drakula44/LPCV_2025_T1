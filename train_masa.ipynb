{
 "cells": [
  {
   "cell_type": "code",
   "execution_count": null,
   "metadata": {},
   "outputs": [],
   "source": [
    "import torch\n",
    "import torch.nn as nn\n",
    "import torch.optim as optim\n",
    "from torch.utils.data import DataLoader\n",
    "from torchvision import models, transforms\n",
    "from src.dataset.coco import get_coco\n",
    "import src.dataset.DatasetReader as DatasetReader\n",
    "import matplotlib.pyplot as plt\n",
    "import src.dataset.utils as utils\n",
    "import time"
   ]
  },
  {
   "cell_type": "code",
   "execution_count": null,
   "metadata": {},
   "outputs": [],
   "source": [
    "if torch.cuda.is_available():\n",
    "    print(\"using cuda\")\n",
    "    print(torch.cuda.get_device_name(0))\n",
    "    device = torch.device(\"cuda\")\n",
    "elif torch.backends.mps.is_available():\n",
    "    print(\"using mps\")\n",
    "    device = torch.device(\"mps\")\n",
    "else:\n",
    "    print(\"using cpu\")\n",
    "    device = torch.device(\"cpu\")"
   ]
  },
  {
   "cell_type": "code",
   "execution_count": null,
   "metadata": {},
   "outputs": [],
   "source": [
    "\n",
    "transform = transforms.Compose([\n",
    "    transforms.Resize((224, 224)),  \n",
    "    transforms.ToTensor(),  \n",
    "    transforms.Normalize(mean=[0.485, 0.456, 0.406], std=[0.229, 0.224, 0.225])  \n",
    "])\n",
    "\n",
    "dataset = DatasetReader.COCODataset(annotation_file='../data/annotations/annotations/instances_train2017.json',\n",
    "    image_dir= '../data/train2017/train2017',\n",
    "    target_classes=[s.lower() for s in utils.GLOBAL_CLASSES],\n",
    "    transform=transform)\n",
    "\n",
    "batch_size = 256\n",
    "dataloader = DataLoader(dataset, batch_size=batch_size, shuffle=True, num_workers=11, prefetch_factor=4, persistent_workers=True)\n",
    "\n",
    "model = models.mobilenet_v3_small(pretrained=True)\n",
    "model.classifier[3] = nn.Linear(model.classifier[3].in_features, 64)  \n",
    "model = model.to(device)\n",
    "\n",
    "print(len(dataset))\n",
    "print(dataset[90001][1])"
   ]
  },
  {
   "cell_type": "code",
   "execution_count": null,
   "metadata": {},
   "outputs": [],
   "source": [
    "criterion = nn.CrossEntropyLoss()\n",
    "optimizer = optim.Adam(model.parameters(), lr=0.00002)\n",
    "\n",
    "def train_model(model, dataloader, criterion, optimizer, num_epochs=50):\n",
    "    model.train()\n",
    "    for epoch in range(num_epochs):\n",
    "        start_time = time.time()\n",
    "        running_loss = 0.0\n",
    "        for i, (images, labels) in enumerate(dataloader):\n",
    "\n",
    "            images, labels = images.to(device), labels.to(device)\n",
    "            \n",
    "            optimizer.zero_grad()\n",
    "            outputs = model(images)\n",
    "\n",
    "            loss = criterion(outputs, labels)\n",
    "            loss.backward()\n",
    "            optimizer.step()\n",
    "            \n",
    "            running_loss += loss.item()\n",
    "            if (i + 1) % 10 == 0:\n",
    "                print(f\"Epoch [{epoch+1}/{num_epochs}], Step [{i+1}/{len(dataloader)}], Loss: {loss.item():.4f}\")\n",
    "        asdf = time.time() - start_time\n",
    "        print(f\"Epoch [{epoch+1}/{num_epochs}], Average Loss: {running_loss / len(dataloader):.4f}, Time: {asdf:.4f}s\")\n",
    "        torch.save(model.state_dict(), f\"model_{epoch}epoha_coco_train_batch_size_{batch_size}.pth\")"
   ]
  },
  {
   "cell_type": "code",
   "execution_count": null,
   "metadata": {},
   "outputs": [],
   "source": [
    "# run this to train the model \n",
    "# train_model(model, dataloader, criterion, optimizer)"
   ]
  },
  {
   "cell_type": "markdown",
   "metadata": {},
   "source": [
    "# Evaluation\n",
    "- treba da se stavi da koristi validacioni dataaset"
   ]
  },
  {
   "cell_type": "code",
   "execution_count": null,
   "metadata": {},
   "outputs": [],
   "source": [
    "model.eval()\n",
    "\n",
    "totalPost = 0\n",
    "accuracyPost = 0\n",
    "\n",
    "\n",
    "for i in range(0, len(dataset)):\n",
    "    totalPost += 1\n",
    "    image, label = dataset[i]\n",
    "    image = image.unsqueeze(0).to(device)\n",
    "    label = torch.tensor([label]).to(device)\n",
    "    output = model(image)\n",
    "    _, predicted = torch.max(output, 1)\n",
    "    # print(f\"Predicted: {predicted.item()}, Actual: {label.item()}\")\n",
    "    if(i % 1000 == 0):\n",
    "        print(f\"Slika: {i}\")\n",
    "    if predicted.item() == label.item():\n",
    "        accuracyPost += 1\n",
    "    \n",
    "\n",
    "print(f\"Accuracy: {accuracyPost/totalPost}\")"
   ]
  },
  {
   "cell_type": "code",
   "execution_count": null,
   "metadata": {},
   "outputs": [],
   "source": [
    "# ovo save-uje model\n",
    "torch.save(model.state_dict(), \"model_50epoch_coco_val_batch_size_384_acc_79.2.pth\")"
   ]
  },
  {
   "cell_type": "code",
   "execution_count": null,
   "metadata": {},
   "outputs": [],
   "source": [
    "model2 = models.mobilenet_v3_small(pretrained=True)\n",
    "model2.classifier[3] = nn.Linear(model2.classifier[3].in_features, 64)  \n",
    "model2 = model2.to(device)\n",
    "\n",
    "\n",
    "model2.train()\n",
    "\n",
    "for param in model2.features.parameters():\n",
    "\n",
    "    param.requires_grad = False\n",
    "\n",
    "\n",
    "\n",
    "for param in model2.classifier.parameters():\n",
    "\n",
    "    param.requires_grad = True\n",
    "\n",
    "\n"
   ]
  },
  {
   "cell_type": "code",
   "execution_count": null,
   "metadata": {},
   "outputs": [],
   "source": [
    "criterion = nn.CrossEntropyLoss()\n",
    "optimizer = optim.Adam(model2.parameters(), lr=0.00002)\n",
    "\n",
    "train_model(model2, dataloader, criterion, optimizer, num_epochs=50)"
   ]
  }
 ],
 "metadata": {
  "kernelspec": {
   "display_name": "qai_hub",
   "language": "python",
   "name": "python3"
  },
  "language_info": {
   "codemirror_mode": {
    "name": "ipython",
    "version": 3
   },
   "file_extension": ".py",
   "mimetype": "text/x-python",
   "name": "python",
   "nbconvert_exporter": "python",
   "pygments_lexer": "ipython3",
   "version": "3.8.20"
  }
 },
 "nbformat": 4,
 "nbformat_minor": 2
}
